{
 "cells": [
  {
   "cell_type": "markdown",
   "metadata": {},
   "source": [
    "# oops concept\n"
   ]
  },
  {
   "cell_type": "code",
   "execution_count": 23,
   "metadata": {},
   "outputs": [],
   "source": [
    "import os"
   ]
  },
  {
   "cell_type": "code",
   "execution_count": 24,
   "metadata": {},
   "outputs": [
    {
     "data": {
      "text/plain": [
       "'c:\\\\Users\\\\my\\\\Desktop\\\\aiml\\\\testing'"
      ]
     },
     "execution_count": 24,
     "metadata": {},
     "output_type": "execute_result"
    }
   ],
   "source": [
    "\n",
    "os.getcwd()\n"
   ]
  },
  {
   "cell_type": "code",
   "execution_count": 25,
   "metadata": {},
   "outputs": [
    {
     "data": {
      "text/plain": [
       "['sahil.txt']"
      ]
     },
     "execution_count": 25,
     "metadata": {},
     "output_type": "execute_result"
    }
   ],
   "source": [
    "os.listdir()"
   ]
  },
  {
   "cell_type": "code",
   "execution_count": 26,
   "metadata": {},
   "outputs": [
    {
     "ename": "TypeError",
     "evalue": "chdir() missing required argument 'path' (pos 1)",
     "output_type": "error",
     "traceback": [
      "\u001b[1;31m---------------------------------------------------------------------------\u001b[0m",
      "\u001b[1;31mTypeError\u001b[0m                                 Traceback (most recent call last)",
      "Cell \u001b[1;32mIn[26], line 1\u001b[0m\n\u001b[1;32m----> 1\u001b[0m \u001b[43mos\u001b[49m\u001b[38;5;241;43m.\u001b[39;49m\u001b[43mchdir\u001b[49m\u001b[43m(\u001b[49m\u001b[43m)\u001b[49m\n",
      "\u001b[1;31mTypeError\u001b[0m: chdir() missing required argument 'path' (pos 1)"
     ]
    }
   ],
   "source": [
    "os.chdir()\n"
   ]
  },
  {
   "cell_type": "code",
   "execution_count": null,
   "metadata": {},
   "outputs": [],
   "source": []
  },
  {
   "cell_type": "code",
   "execution_count": null,
   "metadata": {},
   "outputs": [],
   "source": []
  },
  {
   "cell_type": "code",
   "execution_count": null,
   "metadata": {},
   "outputs": [
    {
     "name": "stdout",
     "output_type": "stream",
     "text": [
      " Volume in drive C has no label.\n",
      " Volume Serial Number is 5207-4401\n",
      "\n",
      " Directory of c:\\Users\\my\\Desktop\\aiml\n",
      "\n",
      "21-05-2024  10:38    <DIR>          .\n",
      "21-05-2024  10:38    <DIR>          ..\n",
      "11-05-2024  11:02    <DIR>          .vscode\n",
      "18-05-2024  12:17    <DIR>          __pycache__\n",
      "16-05-2024  11:47               728 aiml - Shortcut.lnk\n",
      "10-05-2024  12:17               131 day1.py\n",
      "20-05-2024  11:56               158 day10.py\n",
      "21-05-2024  10:49             2,756 day11.ipynb\n",
      "11-05-2024  12:23             1,211 day2.py\n",
      "13-05-2024  12:10             1,579 day3.py\n",
      "17-05-2024  11:42             1,595 day4.1.py\n",
      "17-05-2024  11:36               682 day4.py\n",
      "16-05-2024  11:41             1,631 day5.py\n",
      "17-05-2024  11:04             1,868 day6(loop).ipynb\n",
      "17-05-2024  12:15             8,548 day7.ipynb\n",
      "18-05-2024  11:59             1,345 day8.py\n",
      "20-05-2024  12:09            11,124 day9.ipynb\n",
      "20-05-2024  11:20               474 demo.txt\n",
      "20-05-2024  11:21               553 demo2.txt\n",
      "18-05-2024  12:17               391 hello.py\n",
      "20-05-2024  10:58                19 hello.txt\n",
      "20-05-2024  11:51                95 jecrc.txt\n",
      "18-05-2024  12:17               170 test.py\n",
      "20-05-2024  11:11                79 test.txt\n",
      "              20 File(s)         35,137 bytes\n",
      "               4 Dir(s)  22,149,304,320 bytes free\n"
     ]
    }
   ],
   "source": [
    "ls"
   ]
  },
  {
   "cell_type": "markdown",
   "metadata": {},
   "source": []
  },
  {
   "cell_type": "code",
   "execution_count": null,
   "metadata": {},
   "outputs": [],
   "source": [
    "os.makedirs('testing',exist_ok=True)"
   ]
  },
  {
   "cell_type": "code",
   "execution_count": null,
   "metadata": {},
   "outputs": [
    {
     "data": {
      "text/plain": [
       "'c:\\\\Users\\\\my\\\\Desktop\\\\aiml'"
      ]
     },
     "execution_count": 12,
     "metadata": {},
     "output_type": "execute_result"
    }
   ],
   "source": [
    "pwd"
   ]
  },
  {
   "cell_type": "code",
   "execution_count": null,
   "metadata": {},
   "outputs": [
    {
     "name": "stdout",
     "output_type": "stream",
     "text": [
      "c:\\Users\\my\\Desktop\\aiml\\testing\n"
     ]
    },
    {
     "name": "stderr",
     "output_type": "stream",
     "text": [
      "C:\\Users\\my\\AppData\\Roaming\\Python\\Python312\\site-packages\\IPython\\core\\magics\\osm.py:417: UserWarning: This is now an optional IPython functionality, setting dhist requires you to install the `pickleshare` library.\n",
      "  self.shell.db['dhist'] = compress_dhist(dhist)[-100:]\n"
     ]
    }
   ],
   "source": [
    "cd testing"
   ]
  },
  {
   "cell_type": "code",
   "execution_count": null,
   "metadata": {},
   "outputs": [
    {
     "name": "stdout",
     "output_type": "stream",
     "text": [
      "c:\\Users\\my\\Desktop\\aiml\n"
     ]
    },
    {
     "name": "stderr",
     "output_type": "stream",
     "text": [
      "C:\\Users\\my\\AppData\\Roaming\\Python\\Python312\\site-packages\\IPython\\core\\magics\\osm.py:417: UserWarning: This is now an optional IPython functionality, setting dhist requires you to install the `pickleshare` library.\n",
      "  self.shell.db['dhist'] = compress_dhist(dhist)[-100:]\n"
     ]
    }
   ],
   "source": [
    "cd .."
   ]
  },
  {
   "cell_type": "code",
   "execution_count": null,
   "metadata": {},
   "outputs": [],
   "source": [
    "os.chdir('testing') # change the directory\n"
   ]
  },
  {
   "cell_type": "code",
   "execution_count": null,
   "metadata": {},
   "outputs": [],
   "source": []
  },
  {
   "cell_type": "code",
   "execution_count": null,
   "metadata": {},
   "outputs": [
    {
     "data": {
      "text/plain": [
       "'c:\\\\Users\\\\my\\\\Desktop\\\\aiml\\\\testing'"
      ]
     },
     "execution_count": 16,
     "metadata": {},
     "output_type": "execute_result"
    }
   ],
   "source": [
    "os.getcwd()"
   ]
  },
  {
   "cell_type": "code",
   "execution_count": 27,
   "metadata": {},
   "outputs": [],
   "source": [
    "# file=open('sahil.txt','x')\n",
    "file=open('sahil.txt','w')\n",
    "message=\"\"\"\n",
    "here is the jecrc\n",
    "\"\"\"\n",
    "# print(message)\n",
    "file.write(message)\n",
    "file.close()"
   ]
  },
  {
   "cell_type": "code",
   "execution_count": null,
   "metadata": {},
   "outputs": [
    {
     "name": "stdout",
     "output_type": "stream",
     "text": [
      "alredy present\n"
     ]
    }
   ],
   "source": [
    "if os.path.exists('sahil.txt'):\n",
    "    print(\"alredy present\")\n",
    "else:\n",
    "    file=open('sahil.txt','x')\n",
    "    file.close()\n",
    "    print('file is created')"
   ]
  },
  {
   "cell_type": "code",
   "execution_count": 28,
   "metadata": {},
   "outputs": [
    {
     "name": "stdout",
     "output_type": "stream",
     "text": [
      "c:\\Users\\my\\Desktop\\aiml\n"
     ]
    },
    {
     "name": "stderr",
     "output_type": "stream",
     "text": [
      "C:\\Users\\my\\AppData\\Roaming\\Python\\Python312\\site-packages\\IPython\\core\\magics\\osm.py:417: UserWarning: This is now an optional IPython functionality, setting dhist requires you to install the `pickleshare` library.\n",
      "  self.shell.db['dhist'] = compress_dhist(dhist)[-100:]\n"
     ]
    }
   ],
   "source": [
    "cd .."
   ]
  },
  {
   "cell_type": "code",
   "execution_count": 29,
   "metadata": {},
   "outputs": [
    {
     "name": "stdout",
     "output_type": "stream",
     "text": [
      " Volume in drive C has no label.\n",
      " Volume Serial Number is 5207-4401\n",
      "\n",
      " Directory of c:\\Users\\my\\Desktop\\aiml\n",
      "\n",
      "21-05-2024  10:52    <DIR>          .\n",
      "21-05-2024  10:52    <DIR>          ..\n",
      "11-05-2024  11:02    <DIR>          .vscode\n",
      "18-05-2024  12:17    <DIR>          __pycache__\n",
      "16-05-2024  11:47               728 aiml - Shortcut.lnk\n",
      "10-05-2024  12:17               131 day1.py\n",
      "20-05-2024  11:56               158 day10.py\n",
      "21-05-2024  11:15             7,517 day11.ipynb\n",
      "11-05-2024  12:23             1,211 day2.py\n",
      "13-05-2024  12:10             1,579 day3.py\n",
      "17-05-2024  11:42             1,595 day4.1.py\n",
      "17-05-2024  11:36               682 day4.py\n",
      "16-05-2024  11:41             1,631 day5.py\n",
      "17-05-2024  11:04             1,868 day6(loop).ipynb\n",
      "17-05-2024  12:15             8,548 day7.ipynb\n",
      "18-05-2024  11:59             1,345 day8.py\n",
      "20-05-2024  12:09            11,124 day9.ipynb\n",
      "20-05-2024  11:20               474 demo.txt\n",
      "20-05-2024  11:21               553 demo2.txt\n",
      "18-05-2024  12:17               391 hello.py\n",
      "20-05-2024  10:58                19 hello.txt\n",
      "20-05-2024  11:51                95 jecrc.txt\n",
      "18-05-2024  12:17               170 test.py\n",
      "20-05-2024  11:11                79 test.txt\n",
      "21-05-2024  11:06    <DIR>          testing\n",
      "              20 File(s)         39,898 bytes\n",
      "               5 Dir(s)  22,160,867,328 bytes free\n"
     ]
    }
   ],
   "source": [
    "ls"
   ]
  },
  {
   "cell_type": "code",
   "execution_count": 30,
   "metadata": {},
   "outputs": [
    {
     "data": {
      "text/plain": [
       "'c:\\\\Users\\\\my\\\\Desktop\\\\aiml'"
      ]
     },
     "execution_count": 30,
     "metadata": {},
     "output_type": "execute_result"
    }
   ],
   "source": [
    "pwd"
   ]
  },
  {
   "cell_type": "code",
   "execution_count": 36,
   "metadata": {},
   "outputs": [],
   "source": [
    "desktop='c:\\\\Users\\\\my\\\\Desktop'\n",
    "your_folder_path=r\"aiml\\testing\""
   ]
  },
  {
   "cell_type": "code",
   "execution_count": 37,
   "metadata": {},
   "outputs": [],
   "source": [
    "complte_path=os.path.join(desktop,your_folder_path)"
   ]
  },
  {
   "cell_type": "code",
   "execution_count": 38,
   "metadata": {},
   "outputs": [
    {
     "data": {
      "text/plain": [
       "'c:\\\\Users\\\\my\\\\Desktop\\\\aiml\\\\testing'"
      ]
     },
     "execution_count": 38,
     "metadata": {},
     "output_type": "execute_result"
    }
   ],
   "source": [
    "complte_path"
   ]
  },
  {
   "cell_type": "code",
   "execution_count": 39,
   "metadata": {},
   "outputs": [
    {
     "data": {
      "text/plain": [
       "['sahil.txt']"
      ]
     },
     "execution_count": 39,
     "metadata": {},
     "output_type": "execute_result"
    }
   ],
   "source": [
    "os.listdir(complte_path)"
   ]
  },
  {
   "cell_type": "code",
   "execution_count": 41,
   "metadata": {},
   "outputs": [
    {
     "name": "stdout",
     "output_type": "stream",
     "text": [
      "hari  ram mohan \target \n",
      "ested loop we  are learning\n"
     ]
    }
   ],
   "source": [
    "name=\"hari  ram mohan \\target \\nested loop we  are learning\"\n",
    "print(name)"
   ]
  },
  {
   "cell_type": "markdown",
   "metadata": {},
   "source": [
    "# use of r\n"
   ]
  },
  {
   "cell_type": "code",
   "execution_count": 42,
   "metadata": {},
   "outputs": [
    {
     "name": "stdout",
     "output_type": "stream",
     "text": [
      "hari  ram mohan \\target \\nested loop we  are learning\n"
     ]
    }
   ],
   "source": [
    "name=r\"hari  ram mohan \\target \\nested loop we  are learning\"\n",
    "print(name)"
   ]
  }
 ],
 "metadata": {
  "kernelspec": {
   "display_name": "Python 3",
   "language": "python",
   "name": "python3"
  },
  "language_info": {
   "codemirror_mode": {
    "name": "ipython",
    "version": 3
   },
   "file_extension": ".py",
   "mimetype": "text/x-python",
   "name": "python",
   "nbconvert_exporter": "python",
   "pygments_lexer": "ipython3",
   "version": "3.12.3"
  }
 },
 "nbformat": 4,
 "nbformat_minor": 2
}
